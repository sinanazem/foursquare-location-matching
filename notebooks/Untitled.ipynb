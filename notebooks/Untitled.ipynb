{
 "cells": [
  {
   "cell_type": "code",
   "execution_count": 168,
   "id": "178d2726-ef8b-4e30-ab03-429184c6314d",
   "metadata": {},
   "outputs": [],
   "source": [
    "import pandas as pd\n",
    "import numpy as np\n",
    "import matplotlib.pyplot as plt\n",
    "import seaborn as sns\n",
    "import missingno as msno\n",
    "msno.matrix(df);\n",
    "import warnings\n",
    "warnings.filterwarnings(\"ignore\")"
   ]
  },
  {
   "cell_type": "code",
   "execution_count": 128,
   "id": "5f01bf53-3364-44b3-911f-c13037e9abc0",
   "metadata": {},
   "outputs": [],
   "source": [
    "file_path = \"/mnt/c/Users/user/OneDrive/Desktop/foursquare-location-matching-parquet/train.parquet\""
   ]
  },
  {
   "cell_type": "code",
   "execution_count": 129,
   "id": "0e5044db-5694-4a8a-bd0f-7a3b27e0ee54",
   "metadata": {},
   "outputs": [],
   "source": [
    "df = pd.read_parquet(file_path)"
   ]
  },
  {
   "cell_type": "code",
   "execution_count": 130,
   "id": "03f785a0-8615-46e2-8ab3-31023c7797b9",
   "metadata": {},
   "outputs": [
    {
     "data": {
      "text/html": [
       "<div>\n",
       "<style scoped>\n",
       "    .dataframe tbody tr th:only-of-type {\n",
       "        vertical-align: middle;\n",
       "    }\n",
       "\n",
       "    .dataframe tbody tr th {\n",
       "        vertical-align: top;\n",
       "    }\n",
       "\n",
       "    .dataframe thead th {\n",
       "        text-align: right;\n",
       "    }\n",
       "</style>\n",
       "<table border=\"1\" class=\"dataframe\">\n",
       "  <thead>\n",
       "    <tr style=\"text-align: right;\">\n",
       "      <th></th>\n",
       "      <th>id</th>\n",
       "      <th>name</th>\n",
       "      <th>latitude</th>\n",
       "      <th>longitude</th>\n",
       "      <th>address</th>\n",
       "      <th>city</th>\n",
       "      <th>state</th>\n",
       "      <th>zip</th>\n",
       "      <th>country</th>\n",
       "      <th>url</th>\n",
       "      <th>phone</th>\n",
       "      <th>categories</th>\n",
       "      <th>point_of_interest</th>\n",
       "    </tr>\n",
       "  </thead>\n",
       "  <tbody>\n",
       "    <tr>\n",
       "      <th>0</th>\n",
       "      <td>E_000001272c6c5d</td>\n",
       "      <td>Café Stad Oudenaarde</td>\n",
       "      <td>50.859975</td>\n",
       "      <td>3.634196</td>\n",
       "      <td>Abdijstraat</td>\n",
       "      <td>Nederename</td>\n",
       "      <td>Oost-Vlaanderen</td>\n",
       "      <td>9700</td>\n",
       "      <td>BE</td>\n",
       "      <td>None</td>\n",
       "      <td>None</td>\n",
       "      <td>Bars</td>\n",
       "      <td>P_677e840bb6fc7e</td>\n",
       "    </tr>\n",
       "    <tr>\n",
       "      <th>1</th>\n",
       "      <td>E_000002eae2a589</td>\n",
       "      <td>Carioca Manero</td>\n",
       "      <td>-22.907225</td>\n",
       "      <td>-43.178244</td>\n",
       "      <td>None</td>\n",
       "      <td>None</td>\n",
       "      <td>None</td>\n",
       "      <td>None</td>\n",
       "      <td>BR</td>\n",
       "      <td>None</td>\n",
       "      <td>None</td>\n",
       "      <td>Brazilian Restaurants</td>\n",
       "      <td>P_d82910d8382a83</td>\n",
       "    </tr>\n",
       "    <tr>\n",
       "      <th>2</th>\n",
       "      <td>E_000007f24ebc95</td>\n",
       "      <td>ร้านตัดผมการาเกด</td>\n",
       "      <td>13.780813</td>\n",
       "      <td>100.484900</td>\n",
       "      <td>None</td>\n",
       "      <td>None</td>\n",
       "      <td>None</td>\n",
       "      <td>None</td>\n",
       "      <td>TH</td>\n",
       "      <td>None</td>\n",
       "      <td>None</td>\n",
       "      <td>Salons / Barbershops</td>\n",
       "      <td>P_b1066599e78477</td>\n",
       "    </tr>\n",
       "  </tbody>\n",
       "</table>\n",
       "</div>"
      ],
      "text/plain": [
       "                 id                  name   latitude   longitude      address  \\\n",
       "0  E_000001272c6c5d  Café Stad Oudenaarde  50.859975    3.634196  Abdijstraat   \n",
       "1  E_000002eae2a589        Carioca Manero -22.907225  -43.178244         None   \n",
       "2  E_000007f24ebc95      ร้านตัดผมการาเกด  13.780813  100.484900         None   \n",
       "\n",
       "         city            state   zip country   url phone  \\\n",
       "0  Nederename  Oost-Vlaanderen  9700      BE  None  None   \n",
       "1        None             None  None      BR  None  None   \n",
       "2        None             None  None      TH  None  None   \n",
       "\n",
       "              categories point_of_interest  \n",
       "0                   Bars  P_677e840bb6fc7e  \n",
       "1  Brazilian Restaurants  P_d82910d8382a83  \n",
       "2   Salons / Barbershops  P_b1066599e78477  "
      ]
     },
     "execution_count": 130,
     "metadata": {},
     "output_type": "execute_result"
    }
   ],
   "source": [
    "df.head(3)"
   ]
  },
  {
   "cell_type": "code",
   "execution_count": 131,
   "id": "86b8bc53-d357-47d7-989e-e3420ed2a7e4",
   "metadata": {},
   "outputs": [
    {
     "data": {
      "text/html": [
       "<div>\n",
       "<style scoped>\n",
       "    .dataframe tbody tr th:only-of-type {\n",
       "        vertical-align: middle;\n",
       "    }\n",
       "\n",
       "    .dataframe tbody tr th {\n",
       "        vertical-align: top;\n",
       "    }\n",
       "\n",
       "    .dataframe thead th {\n",
       "        text-align: right;\n",
       "    }\n",
       "</style>\n",
       "<table border=\"1\" class=\"dataframe\">\n",
       "  <thead>\n",
       "    <tr style=\"text-align: right;\">\n",
       "      <th></th>\n",
       "      <th>id</th>\n",
       "      <th>name</th>\n",
       "      <th>latitude</th>\n",
       "      <th>longitude</th>\n",
       "      <th>address</th>\n",
       "      <th>city</th>\n",
       "      <th>state</th>\n",
       "      <th>zip</th>\n",
       "      <th>country</th>\n",
       "      <th>url</th>\n",
       "      <th>phone</th>\n",
       "      <th>categories</th>\n",
       "      <th>point_of_interest</th>\n",
       "    </tr>\n",
       "  </thead>\n",
       "  <tbody>\n",
       "    <tr>\n",
       "      <th>1138809</th>\n",
       "      <td>E_ffffc572b4d35b</td>\n",
       "      <td>İzmir Adnan Menderes Havaalanı</td>\n",
       "      <td>38.423733</td>\n",
       "      <td>27.142826</td>\n",
       "      <td>None</td>\n",
       "      <td>İzmir</td>\n",
       "      <td>None</td>\n",
       "      <td>None</td>\n",
       "      <td>TR</td>\n",
       "      <td>None</td>\n",
       "      <td>None</td>\n",
       "      <td>Airport Services</td>\n",
       "      <td>P_ae96252a6a9380</td>\n",
       "    </tr>\n",
       "    <tr>\n",
       "      <th>1138810</th>\n",
       "      <td>E_ffffca745329ed</td>\n",
       "      <td>焼肉 和家</td>\n",
       "      <td>35.710712</td>\n",
       "      <td>139.775000</td>\n",
       "      <td>上野6-13-6</td>\n",
       "      <td>Taitō</td>\n",
       "      <td>東京都</td>\n",
       "      <td>110-0005</td>\n",
       "      <td>JP</td>\n",
       "      <td>None</td>\n",
       "      <td>338362989</td>\n",
       "      <td>BBQ Joints</td>\n",
       "      <td>P_146662f246d418</td>\n",
       "    </tr>\n",
       "    <tr>\n",
       "      <th>1138811</th>\n",
       "      <td>E_ffffe6f4652fbb</td>\n",
       "      <td>Waihi Beach</td>\n",
       "      <td>-37.417042</td>\n",
       "      <td>175.950466</td>\n",
       "      <td>None</td>\n",
       "      <td>Waihi Beach</td>\n",
       "      <td>Bay Of Plenty</td>\n",
       "      <td>3611</td>\n",
       "      <td>NZ</td>\n",
       "      <td>None</td>\n",
       "      <td>None</td>\n",
       "      <td>Surf Spots</td>\n",
       "      <td>P_ea6578bf39b406</td>\n",
       "    </tr>\n",
       "  </tbody>\n",
       "</table>\n",
       "</div>"
      ],
      "text/plain": [
       "                       id                            name   latitude  \\\n",
       "1138809  E_ffffc572b4d35b  İzmir Adnan Menderes Havaalanı  38.423733   \n",
       "1138810  E_ffffca745329ed                           焼肉 和家  35.710712   \n",
       "1138811  E_ffffe6f4652fbb                     Waihi Beach -37.417042   \n",
       "\n",
       "          longitude   address         city          state       zip country  \\\n",
       "1138809   27.142826      None        İzmir           None      None      TR   \n",
       "1138810  139.775000  上野6-13-6        Taitō            東京都  110-0005      JP   \n",
       "1138811  175.950466      None  Waihi Beach  Bay Of Plenty      3611      NZ   \n",
       "\n",
       "          url      phone        categories point_of_interest  \n",
       "1138809  None       None  Airport Services  P_ae96252a6a9380  \n",
       "1138810  None  338362989        BBQ Joints  P_146662f246d418  \n",
       "1138811  None       None        Surf Spots  P_ea6578bf39b406  "
      ]
     },
     "execution_count": 131,
     "metadata": {},
     "output_type": "execute_result"
    }
   ],
   "source": [
    "df.tail(3)"
   ]
  },
  {
   "cell_type": "code",
   "execution_count": 132,
   "id": "d6b15181-bbb9-4ddb-8309-430d2c617dbe",
   "metadata": {},
   "outputs": [
    {
     "data": {
      "text/html": [
       "<div>\n",
       "<style scoped>\n",
       "    .dataframe tbody tr th:only-of-type {\n",
       "        vertical-align: middle;\n",
       "    }\n",
       "\n",
       "    .dataframe tbody tr th {\n",
       "        vertical-align: top;\n",
       "    }\n",
       "\n",
       "    .dataframe thead th {\n",
       "        text-align: right;\n",
       "    }\n",
       "</style>\n",
       "<table border=\"1\" class=\"dataframe\">\n",
       "  <thead>\n",
       "    <tr style=\"text-align: right;\">\n",
       "      <th></th>\n",
       "      <th>id</th>\n",
       "      <th>name</th>\n",
       "      <th>latitude</th>\n",
       "      <th>longitude</th>\n",
       "      <th>address</th>\n",
       "      <th>city</th>\n",
       "      <th>state</th>\n",
       "      <th>zip</th>\n",
       "      <th>country</th>\n",
       "      <th>url</th>\n",
       "      <th>phone</th>\n",
       "      <th>categories</th>\n",
       "      <th>point_of_interest</th>\n",
       "    </tr>\n",
       "  </thead>\n",
       "  <tbody>\n",
       "    <tr>\n",
       "      <th>1059244</th>\n",
       "      <td>E_ee0bb2dc5e30a6</td>\n",
       "      <td>Ben's</td>\n",
       "      <td>3.157020</td>\n",
       "      <td>101.712776</td>\n",
       "      <td>Suria KLCC</td>\n",
       "      <td>Kuala Lumpur</td>\n",
       "      <td>WP Kuala Lumpur</td>\n",
       "      <td>50088</td>\n",
       "      <td>MY</td>\n",
       "      <td>http://www.thebiggroup.co/bens</td>\n",
       "      <td>321631655</td>\n",
       "      <td>Cafés</td>\n",
       "      <td>P_1475d073b54c3d</td>\n",
       "    </tr>\n",
       "    <tr>\n",
       "      <th>1135283</th>\n",
       "      <td>E_ff33c7d915ebc7</td>\n",
       "      <td>Maaf</td>\n",
       "      <td>50.489950</td>\n",
       "      <td>2.954842</td>\n",
       "      <td>114 Rue Edouard Plachez</td>\n",
       "      <td>Carvin</td>\n",
       "      <td>Hauts-de-France</td>\n",
       "      <td>62220</td>\n",
       "      <td>FR</td>\n",
       "      <td>https://www.maaf.fr/assurance/agence-carvin</td>\n",
       "      <td>+33321795050</td>\n",
       "      <td>Financial or Legal Services</td>\n",
       "      <td>P_09a49af5b05e20</td>\n",
       "    </tr>\n",
       "    <tr>\n",
       "      <th>747825</th>\n",
       "      <td>E_a801b3b61a8d15</td>\n",
       "      <td>Cold Shivers Point</td>\n",
       "      <td>39.031156</td>\n",
       "      <td>-108.654203</td>\n",
       "      <td>None</td>\n",
       "      <td>None</td>\n",
       "      <td>CO</td>\n",
       "      <td>None</td>\n",
       "      <td>US</td>\n",
       "      <td>None</td>\n",
       "      <td>None</td>\n",
       "      <td>Other Great Outdoors</td>\n",
       "      <td>P_4e32427c25570e</td>\n",
       "    </tr>\n",
       "  </tbody>\n",
       "</table>\n",
       "</div>"
      ],
      "text/plain": [
       "                       id                name   latitude   longitude  \\\n",
       "1059244  E_ee0bb2dc5e30a6               Ben's   3.157020  101.712776   \n",
       "1135283  E_ff33c7d915ebc7                Maaf  50.489950    2.954842   \n",
       "747825   E_a801b3b61a8d15  Cold Shivers Point  39.031156 -108.654203   \n",
       "\n",
       "                         address          city            state    zip  \\\n",
       "1059244               Suria KLCC  Kuala Lumpur  WP Kuala Lumpur  50088   \n",
       "1135283  114 Rue Edouard Plachez        Carvin  Hauts-de-France  62220   \n",
       "747825                      None          None               CO   None   \n",
       "\n",
       "        country                                          url         phone  \\\n",
       "1059244      MY               http://www.thebiggroup.co/bens     321631655   \n",
       "1135283      FR  https://www.maaf.fr/assurance/agence-carvin  +33321795050   \n",
       "747825       US                                         None          None   \n",
       "\n",
       "                          categories point_of_interest  \n",
       "1059244                        Cafés  P_1475d073b54c3d  \n",
       "1135283  Financial or Legal Services  P_09a49af5b05e20  \n",
       "747825          Other Great Outdoors  P_4e32427c25570e  "
      ]
     },
     "execution_count": 132,
     "metadata": {},
     "output_type": "execute_result"
    }
   ],
   "source": [
    "df.sample(3)"
   ]
  },
  {
   "cell_type": "code",
   "execution_count": 133,
   "id": "f44b6b4b-2bd8-4b9a-bf8d-07cb5c0da9a2",
   "metadata": {},
   "outputs": [
    {
     "data": {
      "text/plain": [
       "(1138812, 13)"
      ]
     },
     "execution_count": 133,
     "metadata": {},
     "output_type": "execute_result"
    }
   ],
   "source": [
    "df.shape"
   ]
  },
  {
   "cell_type": "code",
   "execution_count": 134,
   "id": "dc923bfa-b8cc-45d6-84f6-fbddf193ed71",
   "metadata": {},
   "outputs": [
    {
     "name": "stdout",
     "output_type": "stream",
     "text": [
      "<class 'pandas.core.frame.DataFrame'>\n",
      "RangeIndex: 1138812 entries, 0 to 1138811\n",
      "Data columns (total 13 columns):\n",
      " #   Column             Non-Null Count    Dtype  \n",
      "---  ------             --------------    -----  \n",
      " 0   id                 1138812 non-null  object \n",
      " 1   name               1138811 non-null  object \n",
      " 2   latitude           1138812 non-null  float64\n",
      " 3   longitude          1138812 non-null  float64\n",
      " 4   address            742191 non-null   object \n",
      " 5   city               839623 non-null   object \n",
      " 6   state              718226 non-null   object \n",
      " 7   zip                543386 non-null   object \n",
      " 8   country            1138801 non-null  object \n",
      " 9   url                267724 non-null   object \n",
      " 10  phone              342855 non-null   object \n",
      " 11  categories         1040505 non-null  object \n",
      " 12  point_of_interest  1138812 non-null  object \n",
      "dtypes: float64(2), object(11)\n",
      "memory usage: 112.9+ MB\n"
     ]
    }
   ],
   "source": [
    "df.info()"
   ]
  },
  {
   "cell_type": "code",
   "execution_count": 135,
   "id": "311b1c8d-cd3a-402f-b6fe-6d3a9db264ba",
   "metadata": {},
   "outputs": [
    {
     "data": {
      "image/png": "[encoded data removed]",
      "text/plain": [
       "<Figure size 2500x1000 with 2 Axes>"
      ]
     },
     "metadata": {},
     "output_type": "display_data"
    }
   ],
   "source": [
    "msno.matrix(df);"
   ]
  },
  {
   "cell_type": "code",
   "execution_count": null,
   "id": "d191e0dc-550b-4079-8ecd-58080ba69537",
   "metadata": {},
   "outputs": [],
   "source": []
  },
  {
   "cell_type": "code",
   "execution_count": null,
   "id": "67d9883c-f640-491e-a970-2d09516444ee",
   "metadata": {},
   "outputs": [],
   "source": []
  },
  {
   "cell_type": "markdown",
   "id": "4f2ad51c-411e-429f-ab99-096288bb781f",
   "metadata": {},
   "source": [
    "## ID"
   ]
  },
  {
   "cell_type": "markdown",
   "id": "d3b9b950-86ce-49a9-b545-041215180877",
   "metadata": {},
   "source": [
    "- All Id startwith 'E'\n",
    "- All Id Length is 16\n",
    "- All Id is Unique"
   ]
  },
  {
   "cell_type": "code",
   "execution_count": 136,
   "id": "e5d2f905-55d3-4885-b3d3-f25960185fd4",
   "metadata": {},
   "outputs": [
    {
     "data": {
      "text/plain": [
       "0"
      ]
     },
     "execution_count": 136,
     "metadata": {},
     "output_type": "execute_result"
    }
   ],
   "source": [
    "## All Id startwith 'E'\n",
    "sum(df[\"id\"].str.startswith(\"E\") == False)"
   ]
  },
  {
   "cell_type": "code",
   "execution_count": 137,
   "id": "612ce55a-35da-419a-90a7-16e00c90bf9b",
   "metadata": {},
   "outputs": [
    {
     "data": {
      "text/plain": [
       "0"
      ]
     },
     "execution_count": 137,
     "metadata": {},
     "output_type": "execute_result"
    }
   ],
   "source": [
    "## All Id Length is 16\n",
    "sum(df[\"id\"].apply(len) != 16)"
   ]
  },
  {
   "cell_type": "code",
   "execution_count": 138,
   "id": "4a97510a-f8cf-4805-a1b8-3cbc3e265fbd",
   "metadata": {},
   "outputs": [
    {
     "data": {
      "text/plain": [
       "True"
      ]
     },
     "execution_count": 138,
     "metadata": {},
     "output_type": "execute_result"
    }
   ],
   "source": [
    "df[\"id\"].nunique() == df.shape[0]"
   ]
  },
  {
   "cell_type": "code",
   "execution_count": null,
   "id": "16e52133-38fc-419b-8b9e-582bf1271a40",
   "metadata": {},
   "outputs": [],
   "source": []
  },
  {
   "cell_type": "code",
   "execution_count": null,
   "id": "64340c34-b289-4372-bdba-25942d080bf7",
   "metadata": {},
   "outputs": [],
   "source": []
  },
  {
   "cell_type": "markdown",
   "id": "e7ddc93e-dca4-4ef6-ba99-5898c4d1ed6c",
   "metadata": {},
   "source": [
    "## Name"
   ]
  },
  {
   "cell_type": "code",
   "execution_count": 139,
   "id": "06f0cb78-902b-4cec-bea5-235c423b4a4e",
   "metadata": {},
   "outputs": [
    {
     "data": {
      "text/plain": [
       "1"
      ]
     },
     "execution_count": 139,
     "metadata": {},
     "output_type": "execute_result"
    }
   ],
   "source": [
    "df['name'].isna().sum()"
   ]
  },
  {
   "cell_type": "code",
   "execution_count": 140,
   "id": "9b4b5c2a-7cb0-4891-a0b2-e0f46b69089d",
   "metadata": {},
   "outputs": [
    {
     "data": {
      "text/html": [
       "<div>\n",
       "<style scoped>\n",
       "    .dataframe tbody tr th:only-of-type {\n",
       "        vertical-align: middle;\n",
       "    }\n",
       "\n",
       "    .dataframe tbody tr th {\n",
       "        vertical-align: top;\n",
       "    }\n",
       "\n",
       "    .dataframe thead th {\n",
       "        text-align: right;\n",
       "    }\n",
       "</style>\n",
       "<table border=\"1\" class=\"dataframe\">\n",
       "  <thead>\n",
       "    <tr style=\"text-align: right;\">\n",
       "      <th></th>\n",
       "      <th>id</th>\n",
       "      <th>name</th>\n",
       "      <th>latitude</th>\n",
       "      <th>longitude</th>\n",
       "      <th>address</th>\n",
       "      <th>city</th>\n",
       "      <th>state</th>\n",
       "      <th>zip</th>\n",
       "      <th>country</th>\n",
       "      <th>url</th>\n",
       "      <th>phone</th>\n",
       "      <th>categories</th>\n",
       "      <th>point_of_interest</th>\n",
       "    </tr>\n",
       "  </thead>\n",
       "  <tbody>\n",
       "    <tr>\n",
       "      <th>750648</th>\n",
       "      <td>E_a8a20800af4423</td>\n",
       "      <td>None</td>\n",
       "      <td>40.822332</td>\n",
       "      <td>-96.689102</td>\n",
       "      <td>None</td>\n",
       "      <td>None</td>\n",
       "      <td>AK</td>\n",
       "      <td>None</td>\n",
       "      <td>US</td>\n",
       "      <td>None</td>\n",
       "      <td>None</td>\n",
       "      <td>None</td>\n",
       "      <td>P_be5d12315d8588</td>\n",
       "    </tr>\n",
       "  </tbody>\n",
       "</table>\n",
       "</div>"
      ],
      "text/plain": [
       "                      id  name   latitude  longitude address  city state  \\\n",
       "750648  E_a8a20800af4423  None  40.822332 -96.689102    None  None    AK   \n",
       "\n",
       "         zip country   url phone categories point_of_interest  \n",
       "750648  None      US  None  None       None  P_be5d12315d8588  "
      ]
     },
     "execution_count": 140,
     "metadata": {},
     "output_type": "execute_result"
    }
   ],
   "source": [
    "df[df['name'].isna() == True]"
   ]
  },
  {
   "cell_type": "code",
   "execution_count": 141,
   "id": "9be009f6-f026-4043-b319-c85f51463364",
   "metadata": {},
   "outputs": [
    {
     "data": {
      "text/plain": [
       "842086"
      ]
     },
     "execution_count": 141,
     "metadata": {},
     "output_type": "execute_result"
    }
   ],
   "source": [
    "df[\"name\"].nunique()"
   ]
  },
  {
   "cell_type": "code",
   "execution_count": 142,
   "id": "769f16a6-04c9-4eb6-b24c-43c97843b973",
   "metadata": {},
   "outputs": [
    {
     "data": {
      "text/plain": [
       "296725"
      ]
     },
     "execution_count": 142,
     "metadata": {},
     "output_type": "execute_result"
    }
   ],
   "source": [
    "df[\"name\"].duplicated().sum()"
   ]
  },
  {
   "cell_type": "code",
   "execution_count": 143,
   "id": "a996a40c-1cc6-4500-96a4-537e5e48cfaf",
   "metadata": {
    "scrolled": true
   },
   "outputs": [
    {
     "data": {
      "text/plain": [
       "Starbucks                       5637\n",
       "McDonald's                      3370\n",
       "Redbox                          3190\n",
       "Subway                          2024\n",
       "Payless ShoeSource              1950\n",
       "7-Eleven                        1911\n",
       "KFC                             1720\n",
       "Burger King                     1468\n",
       "Shell                           1296\n",
       "Pizza Hut                       1032\n",
       "Dunkin'                          902\n",
       "Bankamatik                       830\n",
       "7-Eleven (เซเว่น อีเลฟเว่น)      827\n",
       "Walmart Tires & Lube             792\n",
       "Сбербанк                         741\n",
       "Walmart Supercenter              730\n",
       "SUBWAY                           726\n",
       "AT&T                             720\n",
       "Walmart Auto Care Centers        659\n",
       "H&M                              542\n",
       "Domino's Pizza                   531\n",
       "XFINITY Store by Comcast         517\n",
       "Circle K                         514\n",
       "US Post Office                   510\n",
       "T-Mobile                         493\n",
       "Costa Coffee                     475\n",
       "Time Warner Cable                464\n",
       "JCDecaux                         436\n",
       "Firestone Complete Auto Care     427\n",
       "Walgreens                        421\n",
       "Target                           391\n",
       "Dollar Tree                      387\n",
       "Chase Bank                       383\n",
       "Deleted Venue (SEO)              365\n",
       "Дикси                            363\n",
       "Carrefour                        358\n",
       "Jollibee                         346\n",
       "星巴克                              330\n",
       "The Coffee Bean & Tea Leaf       329\n",
       "H&R Block                        323\n",
       "PENNY                            321\n",
       "Pier 1 Imports                   313\n",
       "Watsons                          307\n",
       "Sears Appliance Repair           298\n",
       "Tim Hortons                      294\n",
       "Walmart                          294\n",
       "Banco do Brasil                  290\n",
       "Пятерочка                        283\n",
       "Enterprise Rent-A-Car            281\n",
       "Kroger                           278\n",
       "Name: name, dtype: int64"
      ]
     },
     "execution_count": 143,
     "metadata": {},
     "output_type": "execute_result"
    }
   ],
   "source": [
    "df[\"name\"].value_counts()[:50]"
   ]
  },
  {
   "cell_type": "code",
   "execution_count": 144,
   "id": "fb0189c8-4554-45b8-80af-63a50c5264d2",
   "metadata": {},
   "outputs": [],
   "source": [
    "name_value_counts = df[\"name\"].value_counts()[:10]\n",
    "name_index = name_value_counts.index\n",
    "name_freq = name_value_counts.values\n"
   ]
  },
  {
   "cell_type": "code",
   "execution_count": 145,
   "id": "e0494788-8fd4-4bca-9b53-cf670d96faa6",
   "metadata": {},
   "outputs": [
    {
     "data": {
      "image/png": "[encoded data removed]",
      "text/plain": [
       "<Figure size 640x480 with 1 Axes>"
      ]
     },
     "metadata": {},
     "output_type": "display_data"
    }
   ],
   "source": [
    "sns.barplot(x=name_freq, y=name_index);"
   ]
  },
  {
   "cell_type": "code",
   "execution_count": 146,
   "id": "920da744-3b70-448d-a5e5-4e626f775385",
   "metadata": {},
   "outputs": [
    {
     "data": {
      "text/plain": [
       "array([5637, 3370, 3190, 2024, 1950, 1911, 1720, 1468, 1296, 1032])"
      ]
     },
     "execution_count": 146,
     "metadata": {},
     "output_type": "execute_result"
    }
   ],
   "source": [
    "name_freq"
   ]
  },
  {
   "cell_type": "code",
   "execution_count": 147,
   "id": "8f06fc86-b5e0-4050-9134-62ae3b24e29f",
   "metadata": {},
   "outputs": [],
   "source": [
    "## we have 4 name that are just number"
   ]
  },
  {
   "cell_type": "code",
   "execution_count": 148,
   "id": "75e96371-bb09-4636-b5ee-25774dbd524c",
   "metadata": {},
   "outputs": [
    {
     "data": {
      "text/html": [
       "<div>\n",
       "<style scoped>\n",
       "    .dataframe tbody tr th:only-of-type {\n",
       "        vertical-align: middle;\n",
       "    }\n",
       "\n",
       "    .dataframe tbody tr th {\n",
       "        vertical-align: top;\n",
       "    }\n",
       "\n",
       "    .dataframe thead th {\n",
       "        text-align: right;\n",
       "    }\n",
       "</style>\n",
       "<table border=\"1\" class=\"dataframe\">\n",
       "  <thead>\n",
       "    <tr style=\"text-align: right;\">\n",
       "      <th></th>\n",
       "      <th>id</th>\n",
       "      <th>name</th>\n",
       "      <th>latitude</th>\n",
       "      <th>longitude</th>\n",
       "      <th>address</th>\n",
       "      <th>city</th>\n",
       "      <th>state</th>\n",
       "      <th>zip</th>\n",
       "      <th>country</th>\n",
       "      <th>url</th>\n",
       "      <th>phone</th>\n",
       "      <th>categories</th>\n",
       "      <th>point_of_interest</th>\n",
       "    </tr>\n",
       "  </thead>\n",
       "  <tbody>\n",
       "    <tr>\n",
       "      <th>113600</th>\n",
       "      <td>E_197676a3055736</td>\n",
       "      <td>６６９</td>\n",
       "      <td>35.645634</td>\n",
       "      <td>139.508098</td>\n",
       "      <td>東京都稲城市東長沼６６９</td>\n",
       "      <td>稲城市</td>\n",
       "      <td>東京都</td>\n",
       "      <td>None</td>\n",
       "      <td>JP</td>\n",
       "      <td>None</td>\n",
       "      <td>None</td>\n",
       "      <td>None</td>\n",
       "      <td>P_dc180eac60e44d</td>\n",
       "    </tr>\n",
       "    <tr>\n",
       "      <th>480850</th>\n",
       "      <td>E_6c0fd52e67dac0</td>\n",
       "      <td>６７１</td>\n",
       "      <td>35.645634</td>\n",
       "      <td>139.508098</td>\n",
       "      <td>東京都稲城市東長沼６７１</td>\n",
       "      <td>稲城市</td>\n",
       "      <td>東京都</td>\n",
       "      <td>None</td>\n",
       "      <td>JP</td>\n",
       "      <td>None</td>\n",
       "      <td>None</td>\n",
       "      <td>None</td>\n",
       "      <td>P_5dabf472b4b718</td>\n",
       "    </tr>\n",
       "    <tr>\n",
       "      <th>574652</th>\n",
       "      <td>E_812b6ab8af4dc5</td>\n",
       "      <td>６６５</td>\n",
       "      <td>35.645640</td>\n",
       "      <td>139.508304</td>\n",
       "      <td>東京都稲城市東長沼６６５</td>\n",
       "      <td>稲城市</td>\n",
       "      <td>東京都</td>\n",
       "      <td>None</td>\n",
       "      <td>JP</td>\n",
       "      <td>None</td>\n",
       "      <td>None</td>\n",
       "      <td>None</td>\n",
       "      <td>P_6861320c80dbd5</td>\n",
       "    </tr>\n",
       "    <tr>\n",
       "      <th>920490</th>\n",
       "      <td>E_cec29c825a6571</td>\n",
       "      <td>６７３</td>\n",
       "      <td>35.645634</td>\n",
       "      <td>139.508098</td>\n",
       "      <td>東京都稲城市東長沼６７３</td>\n",
       "      <td>稲城市</td>\n",
       "      <td>東京都</td>\n",
       "      <td>None</td>\n",
       "      <td>JP</td>\n",
       "      <td>None</td>\n",
       "      <td>None</td>\n",
       "      <td>None</td>\n",
       "      <td>P_f29738b6307a7e</td>\n",
       "    </tr>\n",
       "  </tbody>\n",
       "</table>\n",
       "</div>"
      ],
      "text/plain": [
       "                      id name   latitude   longitude       address city state  \\\n",
       "113600  E_197676a3055736  ６６９  35.645634  139.508098  東京都稲城市東長沼６６９  稲城市   東京都   \n",
       "480850  E_6c0fd52e67dac0  ６７１  35.645634  139.508098  東京都稲城市東長沼６７１  稲城市   東京都   \n",
       "574652  E_812b6ab8af4dc5  ６６５  35.645640  139.508304  東京都稲城市東長沼６６５  稲城市   東京都   \n",
       "920490  E_cec29c825a6571  ６７３  35.645634  139.508098  東京都稲城市東長沼６７３  稲城市   東京都   \n",
       "\n",
       "         zip country   url phone categories point_of_interest  \n",
       "113600  None      JP  None  None       None  P_dc180eac60e44d  \n",
       "480850  None      JP  None  None       None  P_5dabf472b4b718  \n",
       "574652  None      JP  None  None       None  P_6861320c80dbd5  \n",
       "920490  None      JP  None  None       None  P_f29738b6307a7e  "
      ]
     },
     "execution_count": 148,
     "metadata": {},
     "output_type": "execute_result"
    }
   ],
   "source": [
    "df[df[\"name\"].str.isdigit() == True]"
   ]
  },
  {
   "cell_type": "markdown",
   "id": "8824333c-9f33-41f7-b4f3-9f978e3b9a6d",
   "metadata": {},
   "source": [
    "## Latitude & Longitude"
   ]
  },
  {
   "cell_type": "code",
   "execution_count": 149,
   "id": "386c074f-3d24-4031-98e1-c2d3f96d06a7",
   "metadata": {},
   "outputs": [
    {
     "data": {
      "text/plain": [
       "latitude     0\n",
       "longitude    0\n",
       "dtype: int64"
      ]
     },
     "execution_count": 149,
     "metadata": {},
     "output_type": "execute_result"
    }
   ],
   "source": [
    "df[['latitude', 'longitude']].isna().sum()"
   ]
  },
  {
   "cell_type": "code",
   "execution_count": 150,
   "id": "714e189d-28ea-4360-8b9d-4d5163bc7e0c",
   "metadata": {},
   "outputs": [
    {
     "data": {
      "text/plain": [
       "9965"
      ]
     },
     "execution_count": 150,
     "metadata": {},
     "output_type": "execute_result"
    }
   ],
   "source": [
    "df[['latitude', 'longitude']].duplicated().sum()"
   ]
  },
  {
   "cell_type": "code",
   "execution_count": 151,
   "id": "6aedd5ff-853e-426e-bfbc-34a2c6df3d8a",
   "metadata": {},
   "outputs": [
    {
     "data": {
      "text/html": [
       "<style type=\"text/css\">\n",
       "#T_02515_row0_col2, #T_02515_row0_col3, #T_02515_row1_col2, #T_02515_row1_col3 {\n",
       "  background-color: #fff7fb;\n",
       "  color: #000000;\n",
       "}\n",
       "#T_02515_row2_col2, #T_02515_row3_col2 {\n",
       "  background-color: #ebe6f2;\n",
       "  color: #000000;\n",
       "}\n",
       "#T_02515_row2_col3, #T_02515_row3_col3, #T_02515_row4_col2, #T_02515_row5_col2 {\n",
       "  background-color: #023858;\n",
       "  color: #f1f1f1;\n",
       "}\n",
       "#T_02515_row4_col3, #T_02515_row5_col3 {\n",
       "  background-color: #eee9f3;\n",
       "  color: #000000;\n",
       "}\n",
       "</style>\n",
       "<table id=\"T_02515\">\n",
       "  <thead>\n",
       "    <tr>\n",
       "      <th class=\"blank level0\" >&nbsp;</th>\n",
       "      <th id=\"T_02515_level0_col0\" class=\"col_heading level0 col0\" >id</th>\n",
       "      <th id=\"T_02515_level0_col1\" class=\"col_heading level0 col1\" >name</th>\n",
       "      <th id=\"T_02515_level0_col2\" class=\"col_heading level0 col2\" >latitude</th>\n",
       "      <th id=\"T_02515_level0_col3\" class=\"col_heading level0 col3\" >longitude</th>\n",
       "      <th id=\"T_02515_level0_col4\" class=\"col_heading level0 col4\" >address</th>\n",
       "      <th id=\"T_02515_level0_col5\" class=\"col_heading level0 col5\" >city</th>\n",
       "      <th id=\"T_02515_level0_col6\" class=\"col_heading level0 col6\" >state</th>\n",
       "      <th id=\"T_02515_level0_col7\" class=\"col_heading level0 col7\" >zip</th>\n",
       "      <th id=\"T_02515_level0_col8\" class=\"col_heading level0 col8\" >country</th>\n",
       "      <th id=\"T_02515_level0_col9\" class=\"col_heading level0 col9\" >url</th>\n",
       "      <th id=\"T_02515_level0_col10\" class=\"col_heading level0 col10\" >phone</th>\n",
       "      <th id=\"T_02515_level0_col11\" class=\"col_heading level0 col11\" >categories</th>\n",
       "      <th id=\"T_02515_level0_col12\" class=\"col_heading level0 col12\" >point_of_interest</th>\n",
       "    </tr>\n",
       "  </thead>\n",
       "  <tbody>\n",
       "    <tr>\n",
       "      <th id=\"T_02515_level0_row0\" class=\"row_heading level0 row0\" >424451</th>\n",
       "      <td id=\"T_02515_row0_col0\" class=\"data row0 col0\" >E_5f5cdeb1bcdbdb</td>\n",
       "      <td id=\"T_02515_row0_col1\" class=\"data row0 col1\" >Ofis</td>\n",
       "      <td id=\"T_02515_row0_col2\" class=\"data row0 col2\" >-80.857570</td>\n",
       "      <td id=\"T_02515_row0_col3\" class=\"data row0 col3\" >-79.364716</td>\n",
       "      <td id=\"T_02515_row0_col4\" class=\"data row0 col4\" >None</td>\n",
       "      <td id=\"T_02515_row0_col5\" class=\"data row0 col5\" >None</td>\n",
       "      <td id=\"T_02515_row0_col6\" class=\"data row0 col6\" >None</td>\n",
       "      <td id=\"T_02515_row0_col7\" class=\"data row0 col7\" >None</td>\n",
       "      <td id=\"T_02515_row0_col8\" class=\"data row0 col8\" >AQ</td>\n",
       "      <td id=\"T_02515_row0_col9\" class=\"data row0 col9\" >None</td>\n",
       "      <td id=\"T_02515_row0_col10\" class=\"data row0 col10\" >None</td>\n",
       "      <td id=\"T_02515_row0_col11\" class=\"data row0 col11\" >None</td>\n",
       "      <td id=\"T_02515_row0_col12\" class=\"data row0 col12\" >P_0f314009d32f7b</td>\n",
       "    </tr>\n",
       "    <tr>\n",
       "      <th id=\"T_02515_level0_row1\" class=\"row_heading level0 row1\" >985817</th>\n",
       "      <td id=\"T_02515_row1_col0\" class=\"data row1 col0\" >E_dd78429f630d58</td>\n",
       "      <td id=\"T_02515_row1_col1\" class=\"data row1 col1\" >Ofis sanat sokağı</td>\n",
       "      <td id=\"T_02515_row1_col2\" class=\"data row1 col2\" >-80.857570</td>\n",
       "      <td id=\"T_02515_row1_col3\" class=\"data row1 col3\" >-79.364716</td>\n",
       "      <td id=\"T_02515_row1_col4\" class=\"data row1 col4\" >None</td>\n",
       "      <td id=\"T_02515_row1_col5\" class=\"data row1 col5\" >None</td>\n",
       "      <td id=\"T_02515_row1_col6\" class=\"data row1 col6\" >None</td>\n",
       "      <td id=\"T_02515_row1_col7\" class=\"data row1 col7\" >None</td>\n",
       "      <td id=\"T_02515_row1_col8\" class=\"data row1 col8\" >AQ</td>\n",
       "      <td id=\"T_02515_row1_col9\" class=\"data row1 col9\" >None</td>\n",
       "      <td id=\"T_02515_row1_col10\" class=\"data row1 col10\" >None</td>\n",
       "      <td id=\"T_02515_row1_col11\" class=\"data row1 col11\" >None</td>\n",
       "      <td id=\"T_02515_row1_col12\" class=\"data row1 col12\" >P_0f314009d32f7b</td>\n",
       "    </tr>\n",
       "    <tr>\n",
       "      <th id=\"T_02515_level0_row2\" class=\"row_heading level0 row2\" >391740</th>\n",
       "      <td id=\"T_02515_row2_col0\" class=\"data row2 col0\" >E_58001cda4b9f3e</td>\n",
       "      <td id=\"T_02515_row2_col1\" class=\"data row2 col1\" >Quiosque Chopp Brahma - Shopping Avenida Center</td>\n",
       "      <td id=\"T_02515_row2_col2\" class=\"data row2 col2\" >-77.000000</td>\n",
       "      <td id=\"T_02515_row2_col3\" class=\"data row2 col3\" >11.000000</td>\n",
       "      <td id=\"T_02515_row2_col4\" class=\"data row2 col4\" >Av. Mauá, 458, Zona 01</td>\n",
       "      <td id=\"T_02515_row2_col5\" class=\"data row2 col5\" >Maringá</td>\n",
       "      <td id=\"T_02515_row2_col6\" class=\"data row2 col6\" >Paraná</td>\n",
       "      <td id=\"T_02515_row2_col7\" class=\"data row2 col7\" >87013040</td>\n",
       "      <td id=\"T_02515_row2_col8\" class=\"data row2 col8\" >AQ</td>\n",
       "      <td id=\"T_02515_row2_col9\" class=\"data row2 col9\" >None</td>\n",
       "      <td id=\"T_02515_row2_col10\" class=\"data row2 col10\" >None</td>\n",
       "      <td id=\"T_02515_row2_col11\" class=\"data row2 col11\" >Ski Lodges</td>\n",
       "      <td id=\"T_02515_row2_col12\" class=\"data row2 col12\" >P_325746cace7242</td>\n",
       "    </tr>\n",
       "    <tr>\n",
       "      <th id=\"T_02515_level0_row3\" class=\"row_heading level0 row3\" >948551</th>\n",
       "      <td id=\"T_02515_row3_col0\" class=\"data row3 col0\" >E_d5112232bbb7a6</td>\n",
       "      <td id=\"T_02515_row3_col1\" class=\"data row3 col1\" >cavillano cebicheria</td>\n",
       "      <td id=\"T_02515_row3_col2\" class=\"data row3 col2\" >-77.000000</td>\n",
       "      <td id=\"T_02515_row3_col3\" class=\"data row3 col3\" >11.000000</td>\n",
       "      <td id=\"T_02515_row3_col4\" class=\"data row3 col4\" >None</td>\n",
       "      <td id=\"T_02515_row3_col5\" class=\"data row3 col5\" >Arequipa</td>\n",
       "      <td id=\"T_02515_row3_col6\" class=\"data row3 col6\" >Arequipa</td>\n",
       "      <td id=\"T_02515_row3_col7\" class=\"data row3 col7\" >None</td>\n",
       "      <td id=\"T_02515_row3_col8\" class=\"data row3 col8\" >AQ</td>\n",
       "      <td id=\"T_02515_row3_col9\" class=\"data row3 col9\" >None</td>\n",
       "      <td id=\"T_02515_row3_col10\" class=\"data row3 col10\" >None</td>\n",
       "      <td id=\"T_02515_row3_col11\" class=\"data row3 col11\" >Movie Theaters</td>\n",
       "      <td id=\"T_02515_row3_col12\" class=\"data row3 col12\" >P_204061378a6b1c</td>\n",
       "    </tr>\n",
       "    <tr>\n",
       "      <th id=\"T_02515_level0_row4\" class=\"row_heading level0 row4\" >968656</th>\n",
       "      <td id=\"T_02515_row4_col0\" class=\"data row4 col0\" >E_d99788472ed3d1</td>\n",
       "      <td id=\"T_02515_row4_col1\" class=\"data row4 col1\" >JOH CARTELES</td>\n",
       "      <td id=\"T_02515_row4_col2\" class=\"data row4 col2\" >-51.615611</td>\n",
       "      <td id=\"T_02515_row4_col3\" class=\"data row4 col3\" >-69.243911</td>\n",
       "      <td id=\"T_02515_row4_col4\" class=\"data row4 col4\" >avenida parque industrial 531</td>\n",
       "      <td id=\"T_02515_row4_col5\" class=\"data row4 col5\" >Río Gallegos</td>\n",
       "      <td id=\"T_02515_row4_col6\" class=\"data row4 col6\" >Santa Cruz</td>\n",
       "      <td id=\"T_02515_row4_col7\" class=\"data row4 col7\" >9400</td>\n",
       "      <td id=\"T_02515_row4_col8\" class=\"data row4 col8\" >AR</td>\n",
       "      <td id=\"T_02515_row4_col9\" class=\"data row4 col9\" >http://www.johcarteles.com</td>\n",
       "      <td id=\"T_02515_row4_col10\" class=\"data row4 col10\" >+542966421375</td>\n",
       "      <td id=\"T_02515_row4_col11\" class=\"data row4 col11\" >Advertising Agencies</td>\n",
       "      <td id=\"T_02515_row4_col12\" class=\"data row4 col12\" >P_88db6cedf5756f</td>\n",
       "    </tr>\n",
       "    <tr>\n",
       "      <th id=\"T_02515_level0_row5\" class=\"row_heading level0 row5\" >728095</th>\n",
       "      <td id=\"T_02515_row5_col0\" class=\"data row5 col0\" >E_a38e5f7a388d63</td>\n",
       "      <td id=\"T_02515_row5_col1\" class=\"data row5 col1\" >JOH CARTELES</td>\n",
       "      <td id=\"T_02515_row5_col2\" class=\"data row5 col2\" >-51.615611</td>\n",
       "      <td id=\"T_02515_row5_col3\" class=\"data row5 col3\" >-69.243911</td>\n",
       "      <td id=\"T_02515_row5_col4\" class=\"data row5 col4\" >Avenida Parque Industrial 531</td>\n",
       "      <td id=\"T_02515_row5_col5\" class=\"data row5 col5\" >Río Gallegos</td>\n",
       "      <td id=\"T_02515_row5_col6\" class=\"data row5 col6\" >Santa Cruz</td>\n",
       "      <td id=\"T_02515_row5_col7\" class=\"data row5 col7\" >9400</td>\n",
       "      <td id=\"T_02515_row5_col8\" class=\"data row5 col8\" >AR</td>\n",
       "      <td id=\"T_02515_row5_col9\" class=\"data row5 col9\" >http://www.johcarteles.com</td>\n",
       "      <td id=\"T_02515_row5_col10\" class=\"data row5 col10\" >+542966421375</td>\n",
       "      <td id=\"T_02515_row5_col11\" class=\"data row5 col11\" >Advertising Agencies</td>\n",
       "      <td id=\"T_02515_row5_col12\" class=\"data row5 col12\" >P_88db6cedf5756f</td>\n",
       "    </tr>\n",
       "  </tbody>\n",
       "</table>\n"
      ],
      "text/plain": [
       "<pandas.io.formats.style.Styler at 0x7fd845e8ac70>"
      ]
     },
     "execution_count": 151,
     "metadata": {},
     "output_type": "execute_result"
    }
   ],
   "source": [
    "df[df[['latitude', 'longitude']].duplicated(keep=False) == True].sort_values(\"latitude\")[:6].style.background_gradient(subset=[\"latitude\", \"longitude\"])"
   ]
  },
  {
   "cell_type": "code",
   "execution_count": 152,
   "id": "55893595-5f15-4ff3-8133-d39bb25f85f2",
   "metadata": {},
   "outputs": [
    {
     "data": {
      "text/plain": [
       "(17325, 13)"
      ]
     },
     "execution_count": 152,
     "metadata": {},
     "output_type": "execute_result"
    }
   ],
   "source": [
    "df[df[['latitude', 'longitude']].duplicated(keep=False) == True].shape"
   ]
  },
  {
   "cell_type": "code",
   "execution_count": 153,
   "id": "8226e322-2719-46c5-866f-b75cd0496212",
   "metadata": {},
   "outputs": [],
   "source": [
    "#!pip install folium"
   ]
  },
  {
   "cell_type": "markdown",
   "id": "c6b35363-8d3c-4f5e-a17e-374d2d27bc5c",
   "metadata": {},
   "source": [
    "#### Map Visualization:"
   ]
  },
  {
   "cell_type": "markdown",
   "id": "7945f6b4-f467-475c-ac5f-43b5c504546d",
   "metadata": {},
   "source": [
    "```\n",
    "\n",
    "import folium\n",
    "import pandas as pd\n",
    "\n",
    "# Create a map centered around the mean latitude and longitude\n",
    "start_coords = (df['latitude'].mean(), df['longitude'].mean())\n",
    "m = folium.Map(location=start_coords, zoom_start=2)\n",
    "\n",
    "# Add points to the map\n",
    "for idx, row in df.iterrows():\n",
    "    folium.Marker(\n",
    "        location=(row['latitude'], row['longitude']),\n",
    "        popup=row['name']\n",
    "    ).add_to(m)\n",
    "\n",
    "# Save the map to an HTML file\n",
    "#m.save('foursquare_map.html')\n",
    "\n",
    "from folium.plugins import MarkerCluster\n",
    "\n",
    "m = folium.Map(location=start_coords, zoom_start=2)\n",
    "marker_cluster = MarkerCluster().add_to(m)\n",
    "\n",
    "for idx, row in df.iterrows():\n",
    "    folium.Marker(\n",
    "        location=(row['latitude'], row['longitude']),\n",
    "        popup=row['name']\n",
    "    ).add_to(marker_cluster)\n",
    "\n",
    "m.save('foursquare_map_clustered.html')\n",
    "\n",
    "from folium.plugins import HeatMap\n",
    "\n",
    "m = folium.Map(location=start_coords, zoom_start=2)\n",
    "heat_data = [[row['latitude'], row['longitude']] for index, row in df.iterrows()]\n",
    "HeatMap(heat_data).add_to(m)\n",
    "\n",
    "m.save('foursquare_heatmap.html')\n",
    "\n",
    "from IPython.display import display\n",
    "display(m)\n",
    "\n",
    "```"
   ]
  },
  {
   "cell_type": "markdown",
   "id": "0ae60bea-5d08-478a-9f16-1ed34dc65e13",
   "metadata": {
    "jp-MarkdownHeadingCollapsed": true
   },
   "source": [
    "## Address"
   ]
  },
  {
   "cell_type": "code",
   "execution_count": 157,
   "id": "d1f94877-b45f-46b0-8a7e-d6f4dcb1d507",
   "metadata": {},
   "outputs": [
    {
     "data": {
      "text/plain": [
       "address    396621\n",
       "dtype: int64"
      ]
     },
     "execution_count": 157,
     "metadata": {},
     "output_type": "execute_result"
    }
   ],
   "source": [
    "df[['address']].isna().sum()"
   ]
  },
  {
   "cell_type": "code",
   "execution_count": 163,
   "id": "d56deee4-58df-4c59-80e8-0cdf20915189",
   "metadata": {},
   "outputs": [
    {
     "name": "stdout",
     "output_type": "stream",
     "text": [
      "address: 34.83% Missing Value!\n"
     ]
    }
   ],
   "source": [
    "print(f\"address: {round((396621 / df.shape[0]) * 100,2)}% Missing Value!\")"
   ]
  },
  {
   "cell_type": "code",
   "execution_count": 164,
   "id": "ac7c78a7-2585-4bea-859e-152ac1329d0f",
   "metadata": {},
   "outputs": [
    {
     "data": {
      "text/plain": [
       "Terminal 1                     261\n",
       "日本                             221\n",
       "Siam Paragon                   174\n",
       "Terminal 2                     169\n",
       "丸の内1-9-1                       159\n",
       "                              ... \n",
       "победа 60                        1\n",
       "Vaļņu Iela                       1\n",
       "Manningham Lane Retail Park      1\n",
       "Sirirat                          1\n",
       "上野6-13-6                         1\n",
       "Name: address, Length: 558154, dtype: int64"
      ]
     },
     "execution_count": 164,
     "metadata": {},
     "output_type": "execute_result"
    }
   ],
   "source": [
    "df['address'].value_counts()"
   ]
  },
  {
   "cell_type": "code",
   "execution_count": 165,
   "id": "f1a02565-31d1-4a5a-aec0-72933ab40661",
   "metadata": {},
   "outputs": [],
   "source": [
    "address_value_counts = df[\"address\"].value_counts()[:10]\n",
    "address_index = address_value_counts.index\n",
    "address_freq = address_value_counts.values"
   ]
  },
  {
   "cell_type": "code",
   "execution_count": 169,
   "id": "a8999d5a-f1af-4dd8-90b0-a49d6839d56a",
   "metadata": {},
   "outputs": [
    {
     "data": {
      "image/png": "[encoded data removed]",
      "text/plain": [
       "<Figure size 640x480 with 1 Axes>"
      ]
     },
     "metadata": {},
     "output_type": "display_data"
    }
   ],
   "source": [
    "sns.barplot(x=address_freq, y=address_index);"
   ]
  },
  {
   "cell_type": "markdown",
   "id": "d2107277-7887-45a1-9bf9-57cdaa01dd47",
   "metadata": {
    "jp-MarkdownHeadingCollapsed": true
   },
   "source": [
    "## City"
   ]
  },
  {
   "cell_type": "code",
   "execution_count": 171,
   "id": "9039b61f-8435-41aa-add5-fad0aeae7698",
   "metadata": {},
   "outputs": [
    {
     "data": {
      "text/plain": [
       "299189"
      ]
     },
     "execution_count": 171,
     "metadata": {},
     "output_type": "execute_result"
    }
   ],
   "source": [
    "df['city'].isna().sum()"
   ]
  },
  {
   "cell_type": "code",
   "execution_count": 173,
   "id": "a475082d-a4d4-45d1-aae1-f4c8a630f9b3",
   "metadata": {},
   "outputs": [
    {
     "data": {
      "text/plain": [
       "68105"
      ]
     },
     "execution_count": 173,
     "metadata": {},
     "output_type": "execute_result"
    }
   ],
   "source": [
    "df['city'].nunique()"
   ]
  },
  {
   "cell_type": "code",
   "execution_count": 174,
   "id": "89248f04-56c3-4d42-8f27-3175d6184dce",
   "metadata": {},
   "outputs": [
    {
     "data": {
      "text/plain": [
       "Singapore         10259\n",
       "Москва             9643\n",
       "Bandung            8745\n",
       "New York           8666\n",
       "İstanbul           6455\n",
       "                  ...  \n",
       "Hassloch/Pfalz        1\n",
       "Rattanaburi           1\n",
       "örebro                1\n",
       "Üçkuyular             1\n",
       "광화문                   1\n",
       "Name: city, Length: 68105, dtype: int64"
      ]
     },
     "execution_count": 174,
     "metadata": {},
     "output_type": "execute_result"
    }
   ],
   "source": [
    "df['city'].value_counts()"
   ]
  },
  {
   "cell_type": "code",
   "execution_count": 176,
   "id": "a943ec75-579e-4cb2-b6f2-5140cae7ba09",
   "metadata": {},
   "outputs": [],
   "source": [
    "city_value_counts = df[\"city\"].value_counts()[:10]\n",
    "city_index = city_value_counts.index\n",
    "city_freq = city_value_counts.values"
   ]
  },
  {
   "cell_type": "code",
   "execution_count": 177,
   "id": "67c12757-3512-4fa2-86c6-4a3a9288f00c",
   "metadata": {},
   "outputs": [
    {
     "data": {
      "image/png": "[encoded data removed]",
      "text/plain": [
       "<Figure size 640x480 with 1 Axes>"
      ]
     },
     "metadata": {},
     "output_type": "display_data"
    }
   ],
   "source": [
    "sns.barplot(x=city_freq, y=city_index);"
   ]
  },
  {
   "cell_type": "code",
   "execution_count": 181,
   "id": "e91e839c-bffb-4236-989e-23c5922d0e96",
   "metadata": {},
   "outputs": [
    {
     "data": {
      "text/plain": [
       "(2542, 13)"
      ]
     },
     "execution_count": 181,
     "metadata": {},
     "output_type": "execute_result"
    }
   ],
   "source": [
    "df[df[\"city\"] == 'Istanbul'].shape"
   ]
  },
  {
   "cell_type": "code",
   "execution_count": 182,
   "id": "2138e5e9-248b-4039-8c61-90c7a0735015",
   "metadata": {},
   "outputs": [
    {
     "data": {
      "text/plain": [
       "(569, 13)"
      ]
     },
     "execution_count": 182,
     "metadata": {},
     "output_type": "execute_result"
    }
   ],
   "source": [
    "df[df[\"city\"] == 'istanbul'].shape"
   ]
  },
  {
   "cell_type": "code",
   "execution_count": 184,
   "id": "a63fe07d-f73f-454d-b397-9c34ca17b324",
   "metadata": {},
   "outputs": [
    {
     "data": {
      "text/plain": [
       "(6455, 13)"
      ]
     },
     "execution_count": 184,
     "metadata": {},
     "output_type": "execute_result"
    }
   ],
   "source": [
    "df[df[\"city\"] == 'İstanbul'].shape"
   ]
  },
  {
   "cell_type": "markdown",
   "id": "de93a67d-4fd6-4823-a616-e3008ece05ad",
   "metadata": {},
   "source": [
    "| we must be fix format for values that store in city column !!!!"
   ]
  },
  {
   "cell_type": "markdown",
   "id": "5c983393-cf56-4d2f-a9b0-3178d03f28c6",
   "metadata": {},
   "source": [
    "## State"
   ]
  },
  {
   "cell_type": "code",
   "execution_count": 204,
   "id": "6598a66d-6f3f-4814-b9e7-536797e5688f",
   "metadata": {},
   "outputs": [],
   "source": [
    "from loguru import logger"
   ]
  },
  {
   "cell_type": "code",
   "execution_count": 209,
   "id": "db8a86ce-90e3-4f33-9406-44ee468e0f66",
   "metadata": {},
   "outputs": [],
   "source": [
    "def feature_overview(col_name):\n",
    "    logger.info(f\"number of Missing Values: {df[col_name].isna().sum()}\")\n",
    "    logger.info(f\"Percent of Missing Values: {round((df[col_name].isna().sum() / df.shape[0]) * 100,2)}%\")\n",
    "    df[col_name].value_counts()[:10].plot(kind=\"bar\")\n",
    "    logger.info(df[col_name].value_counts()[:30])\n",
    "    "
   ]
  },
  {
   "cell_type": "code",
   "execution_count": 190,
   "id": "ace826fc-ff2b-454a-af2e-46c2e3b4531e",
   "metadata": {},
   "outputs": [
    {
     "data": {
      "text/plain": [
       "420586"
      ]
     },
     "execution_count": 190,
     "metadata": {},
     "output_type": "execute_result"
    }
   ],
   "source": [
    "df[\"state\"].isna().sum()"
   ]
  },
  {
   "cell_type": "code",
   "execution_count": 191,
   "id": "b667b9d9-80fa-45d9-9b07-a48380a9d2a6",
   "metadata": {},
   "outputs": [
    {
     "name": "stdout",
     "output_type": "stream",
     "text": [
      "address: 36.93% Missing Value!\n"
     ]
    }
   ],
   "source": [
    "print(f\"address: {round((420586 / df.shape[0]) * 100,2)}% Missing Value!\")"
   ]
  },
  {
   "cell_type": "code",
   "execution_count": 194,
   "id": "d5433adf-1e63-4d23-ba32-89fe40077bd0",
   "metadata": {},
   "outputs": [
    {
     "data": {
      "text/plain": [
       "<Axes: >"
      ]
     },
     "execution_count": 194,
     "metadata": {},
     "output_type": "execute_result"
    },
    {
     "data": {
      "image/png": "[encoded data removed]",
      "text/plain": [
       "<Figure size 640x480 with 1 Axes>"
      ]
     },
     "metadata": {},
     "output_type": "display_data"
    }
   ],
   "source": [
    "df[\"state\"].value_counts()[:10].plot(kind=\"bar\")"
   ]
  },
  {
   "cell_type": "markdown",
   "id": "f50e4308-af59-4a81-9016-1fd0954b3119",
   "metadata": {},
   "source": [
    "## Zip\t"
   ]
  },
  {
   "cell_type": "code",
   "execution_count": 200,
   "id": "d1801264-0c59-4865-bc4c-d8b900b8d60d",
   "metadata": {},
   "outputs": [
    {
     "data": {
      "text/plain": [
       "(28863, 13)"
      ]
     },
     "execution_count": 200,
     "metadata": {},
     "output_type": "execute_result"
    }
   ],
   "source": [
    "df[df[\"state\"] == \"CA\"].shape"
   ]
  },
  {
   "cell_type": "code",
   "execution_count": 199,
   "id": "628c61b7-76ad-4ca1-a94a-fa1a4b0099ed",
   "metadata": {},
   "outputs": [
    {
     "data": {
      "text/plain": [
       "(35, 13)"
      ]
     },
     "execution_count": 199,
     "metadata": {},
     "output_type": "execute_result"
    }
   ],
   "source": [
    "df[df[\"state\"] == \"Ca\"].shape"
   ]
  },
  {
   "cell_type": "code",
   "execution_count": 201,
   "id": "b882dd0e-9018-4703-9278-0e27472beb3e",
   "metadata": {},
   "outputs": [
    {
     "data": {
      "text/plain": [
       "(11, 13)"
      ]
     },
     "execution_count": 201,
     "metadata": {},
     "output_type": "execute_result"
    }
   ],
   "source": [
    "df[df[\"state\"] == \"ca\"].shape"
   ]
  },
  {
   "cell_type": "markdown",
   "id": "1f85157b-2b70-4bc6-a87c-71e111836d2e",
   "metadata": {},
   "source": [
    "## country\t"
   ]
  },
  {
   "cell_type": "code",
   "execution_count": 210,
   "id": "153a6e00-2361-4fac-969a-adba47fe4845",
   "metadata": {},
   "outputs": [
    {
     "name": "stderr",
     "output_type": "stream",
     "text": [
      "\u001b[32m2024-06-09 15:21:54.625\u001b[0m | \u001b[1mINFO    \u001b[0m | \u001b[36m__main__\u001b[0m:\u001b[36mfeature_overview\u001b[0m:\u001b[36m2\u001b[0m - \u001b[1mnumber of Missing Values: 11\u001b[0m\n",
      "\u001b[32m2024-06-09 15:21:54.652\u001b[0m | \u001b[1mINFO    \u001b[0m | \u001b[36m__main__\u001b[0m:\u001b[36mfeature_overview\u001b[0m:\u001b[36m3\u001b[0m - \u001b[1mPercent of Missing Values: 0.0%\u001b[0m\n",
      "\u001b[32m2024-06-09 15:21:54.736\u001b[0m | \u001b[1mINFO    \u001b[0m | \u001b[36m__main__\u001b[0m:\u001b[36mfeature_overview\u001b[0m:\u001b[36m5\u001b[0m - \u001b[1mUS    245284\n",
      "TR    115177\n",
      "ID    110796\n",
      "JP     70032\n",
      "TH     58808\n",
      "RU     57030\n",
      "BR     51241\n",
      "MY     46326\n",
      "BE     25821\n",
      "GB     25544\n",
      "PH     22180\n",
      "MX     21396\n",
      "SG     21005\n",
      "KR     19087\n",
      "DE     17813\n",
      "FR     14174\n",
      "ES     12923\n",
      "CA     11927\n",
      "IT     11395\n",
      "SA     10867\n",
      "AU     10449\n",
      "UA      9864\n",
      "CL      7788\n",
      "NL      7713\n",
      "CN      7445\n",
      "FI      6634\n",
      "GR      5850\n",
      "AR      5255\n",
      "HK      5076\n",
      "CZ      4920\n",
      "Name: country, dtype: int64\u001b[0m\n"
     ]
    },
    {
     "data": {
      "image/png": "[encoded data removed]",
      "text/plain": [
       "<Figure size 640x480 with 1 Axes>"
      ]
     },
     "metadata": {},
     "output_type": "display_data"
    }
   ],
   "source": [
    "feature_overview(\"country\")"
   ]
  },
  {
   "cell_type": "code",
   "execution_count": null,
   "id": "b0e47290-fee3-479c-b8e1-bbc99e67ae72",
   "metadata": {},
   "outputs": [],
   "source": []
  },
  {
   "cell_type": "markdown",
   "id": "33daaa6b-124e-47e2-bd3b-66ccd1e5a1c1",
   "metadata": {},
   "source": [
    "## URL"
   ]
  },
  {
   "cell_type": "code",
   "execution_count": 211,
   "id": "1f484c9a-c32d-4c62-9d6c-be5c7a571b0e",
   "metadata": {},
   "outputs": [
    {
     "name": "stderr",
     "output_type": "stream",
     "text": [
      "\u001b[32m2024-06-09 15:22:38.236\u001b[0m | \u001b[1mINFO    \u001b[0m | \u001b[36m__main__\u001b[0m:\u001b[36mfeature_overview\u001b[0m:\u001b[36m2\u001b[0m - \u001b[1mnumber of Missing Values: 871088\u001b[0m\n",
      "\u001b[32m2024-06-09 15:22:38.259\u001b[0m | \u001b[1mINFO    \u001b[0m | \u001b[36m__main__\u001b[0m:\u001b[36mfeature_overview\u001b[0m:\u001b[36m3\u001b[0m - \u001b[1mPercent of Missing Values: 76.49%\u001b[0m\n",
      "\u001b[32m2024-06-09 15:22:38.484\u001b[0m | \u001b[1mINFO    \u001b[0m | \u001b[36m__main__\u001b[0m:\u001b[36mfeature_overview\u001b[0m:\u001b[36m5\u001b[0m - \u001b[1mhttps://www.sej.co.jp                         921\n",
      "http://www.7eleven.co.th                      833\n",
      "http://www.payless.com/                       687\n",
      "https://www.dunkindonuts.com                  643\n",
      "https://www.family.co.jp                      611\n",
      "http://www.redbox.com                         601\n",
      "http://www.sberbank.ru                        587\n",
      "http://www.starbucks.com/                     444\n",
      "http://www.isbank.com.tr                      427\n",
      "https://www.kroger.com                        377\n",
      "http://www.family.co.jp                       366\n",
      "http://www.barackobama.com/offices            358\n",
      "https://www.netto-online.de                   331\n",
      "http://www.starbucks.com.cn/en                312\n",
      "http://dixy.ru                                311\n",
      "http://www.sej.co.jp                          293\n",
      "https://www.starbucks.com                     291\n",
      "http://www.shell.us/ontheroad                 280\n",
      "http://www.costa.co.uk                        274\n",
      "http://www.istarbucks.co.kr                   273\n",
      "http://www.firestonecompleteautocare.com      257\n",
      "http://www.starbucks.com                      254\n",
      "http://psbank.ru                              246\n",
      "http://www.benetton.com                       241\n",
      "https://www.delijn.be                         230\n",
      "http://www.att.com/maps/store-locator.html    223\n",
      "http://www.bancomer.com                       220\n",
      "http://exxon.com                              219\n",
      "https://www.lawson.co.jp                      204\n",
      "http://www.starbucks.com.tr                   200\n",
      "Name: url, dtype: int64\u001b[0m\n"
     ]
    },
    {
     "data": {
      "image/png": "[encoded data removed]",
      "text/plain": [
       "<Figure size 640x480 with 1 Axes>"
      ]
     },
     "metadata": {},
     "output_type": "display_data"
    }
   ],
   "source": [
    "feature_overview(\"url\")"
   ]
  },
  {
   "cell_type": "code",
   "execution_count": null,
   "id": "1c72b82d-0145-488d-b900-f5d00822a61c",
   "metadata": {},
   "outputs": [],
   "source": []
  },
  {
   "cell_type": "markdown",
   "id": "378b06ea-20a3-4f30-b00d-f442c6035f4e",
   "metadata": {},
   "source": [
    "## Phone"
   ]
  },
  {
   "cell_type": "code",
   "execution_count": 212,
   "id": "645af9d4-1f7f-42cb-b1e0-b6c3117ca5ff",
   "metadata": {},
   "outputs": [
    {
     "name": "stderr",
     "output_type": "stream",
     "text": [
      "\u001b[32m2024-06-09 15:23:07.658\u001b[0m | \u001b[1mINFO    \u001b[0m | \u001b[36m__main__\u001b[0m:\u001b[36mfeature_overview\u001b[0m:\u001b[36m2\u001b[0m - \u001b[1mnumber of Missing Values: 795957\u001b[0m\n",
      "\u001b[32m2024-06-09 15:23:07.682\u001b[0m | \u001b[1mINFO    \u001b[0m | \u001b[36m__main__\u001b[0m:\u001b[36mfeature_overview\u001b[0m:\u001b[36m3\u001b[0m - \u001b[1mPercent of Missing Values: 69.89%\u001b[0m\n",
      "\u001b[32m2024-06-09 15:23:07.996\u001b[0m | \u001b[1mINFO    \u001b[0m | \u001b[36m__main__\u001b[0m:\u001b[36mfeature_overview\u001b[0m:\u001b[36m5\u001b[0m - \u001b[1m8667332693        1875\n",
      "+18667332693      1010\n",
      "+18002758777       559\n",
      "+498002000015      365\n",
      "+4922120199959     363\n",
      "820820001          313\n",
      "+3270220200        263\n",
      "+864008206998      219\n",
      "+33149461720       195\n",
      "+78003330303       193\n",
      "8002500890         182\n",
      "+81570200000       161\n",
      "+443457484950      148\n",
      "8009282274         142\n",
      "800802800          133\n",
      "88005555505        127\n",
      "8889687282         106\n",
      "137678             102\n",
      "+18004253800        94\n",
      "+18008722657        89\n",
      "+34901210300        89\n",
      "+78007550003        89\n",
      "+18559552534        89\n",
      "+498007245776       86\n",
      "+73412908292        85\n",
      "+74955445000        84\n",
      "8444627342          77\n",
      "+912268461208       73\n",
      "+864008823823       70\n",
      "+8215770287         68\n",
      "Name: phone, dtype: int64\u001b[0m\n"
     ]
    },
    {
     "data": {
      "image/png": "[encoded data removed]",
      "text/plain": [
       "<Figure size 640x480 with 1 Axes>"
      ]
     },
     "metadata": {},
     "output_type": "display_data"
    }
   ],
   "source": [
    "feature_overview(\"phone\")"
   ]
  },
  {
   "cell_type": "code",
   "execution_count": null,
   "id": "4db45f78-9ae3-420c-8198-84b626429d9a",
   "metadata": {},
   "outputs": [],
   "source": []
  },
  {
   "cell_type": "markdown",
   "id": "6f583955-e643-4192-8f8f-4a595bb4dc8d",
   "metadata": {},
   "source": [
    "## categories"
   ]
  },
  {
   "cell_type": "code",
   "execution_count": 213,
   "id": "370d813a-2d4e-4568-896e-52734c55d620",
   "metadata": {},
   "outputs": [
    {
     "name": "stderr",
     "output_type": "stream",
     "text": [
      "\u001b[32m2024-06-09 15:23:51.177\u001b[0m | \u001b[1mINFO    \u001b[0m | \u001b[36m__main__\u001b[0m:\u001b[36mfeature_overview\u001b[0m:\u001b[36m2\u001b[0m - \u001b[1mnumber of Missing Values: 98307\u001b[0m\n",
      "\u001b[32m2024-06-09 15:23:51.209\u001b[0m | \u001b[1mINFO    \u001b[0m | \u001b[36m__main__\u001b[0m:\u001b[36mfeature_overview\u001b[0m:\u001b[36m3\u001b[0m - \u001b[1mPercent of Missing Values: 8.63%\u001b[0m\n",
      "\u001b[32m2024-06-09 15:23:51.362\u001b[0m | \u001b[1mINFO    \u001b[0m | \u001b[36m__main__\u001b[0m:\u001b[36mfeature_overview\u001b[0m:\u001b[36m5\u001b[0m - \u001b[1mResidential Buildings (Apartments / Condos)    25481\n",
      "Banks                                          21494\n",
      "College Classrooms                             21438\n",
      "Cafés                                          17805\n",
      "Coffee Shops                                   17097\n",
      "Offices                                        16954\n",
      "Hotels                                         16583\n",
      "Convenience Stores                             13530\n",
      "Buildings                                      11981\n",
      "Salons / Barbershops                           11922\n",
      "Shopping Malls                                 11385\n",
      "Gas Stations                                   10326\n",
      "Fast Food Restaurants                           9963\n",
      "Hospitals                                       9676\n",
      "Restaurants                                     9423\n",
      "Clothing Stores                                 8297\n",
      "Pizza Places                                    8066\n",
      "Automotive Shops                                7961\n",
      "Pharmacies                                      7773\n",
      "Bars                                            7329\n",
      "Parks                                           7208\n",
      "Bakeries                                        6957\n",
      "Doctor's Offices                                6889\n",
      "Housing Developments                            6681\n",
      "Bus Stops                                       6457\n",
      "Beaches                                         6411\n",
      "Grocery Stores                                  5956\n",
      "Supermarkets                                    5792\n",
      "Dentist's Offices                               5643\n",
      "Electronics Stores                              5596\n",
      "Name: categories, dtype: int64\u001b[0m\n"
     ]
    },
    {
     "data": {
      "image/png": "[encoded data removed]",
      "text/plain": [
       "<Figure size 640x480 with 1 Axes>"
      ]
     },
     "metadata": {},
     "output_type": "display_data"
    }
   ],
   "source": [
    "feature_overview(\"categories\")"
   ]
  },
  {
   "cell_type": "code",
   "execution_count": null,
   "id": "20bd039f-8877-4d07-94b7-31ac5656e33e",
   "metadata": {},
   "outputs": [],
   "source": []
  },
  {
   "cell_type": "markdown",
   "id": "a6768293-7b46-4ade-9db4-e4efd759a9ef",
   "metadata": {},
   "source": [
    "## point_of_interest"
   ]
  },
  {
   "cell_type": "code",
   "execution_count": 214,
   "id": "8acfb11c-75ae-4fb1-8098-cfacf8c4e662",
   "metadata": {},
   "outputs": [
    {
     "name": "stderr",
     "output_type": "stream",
     "text": [
      "\u001b[32m2024-06-09 15:24:41.955\u001b[0m | \u001b[1mINFO    \u001b[0m | \u001b[36m__main__\u001b[0m:\u001b[36mfeature_overview\u001b[0m:\u001b[36m2\u001b[0m - \u001b[1mnumber of Missing Values: 0\u001b[0m\n",
      "\u001b[32m2024-06-09 15:24:42.035\u001b[0m | \u001b[1mINFO    \u001b[0m | \u001b[36m__main__\u001b[0m:\u001b[36mfeature_overview\u001b[0m:\u001b[36m3\u001b[0m - \u001b[1mPercent of Missing Values: 0.0%\u001b[0m\n",
      "\u001b[32m2024-06-09 15:24:43.066\u001b[0m | \u001b[1mINFO    \u001b[0m | \u001b[36m__main__\u001b[0m:\u001b[36mfeature_overview\u001b[0m:\u001b[36m5\u001b[0m - \u001b[1mP_fb339198a31db3    332\n",
      "P_3a3fbd26e16269    199\n",
      "P_f70a0977377171    166\n",
      "P_9290e406eb58ac    145\n",
      "P_fbe61733fcdebe    132\n",
      "P_59cb47cbf3a432    130\n",
      "P_f82d146eaf21da    120\n",
      "P_40323f7f948c18    120\n",
      "P_f8a0cd160eec80    119\n",
      "P_6c385e5fd3a4b7    119\n",
      "P_35db41d5e6fe17    115\n",
      "P_9ca6f5784b5b37    115\n",
      "P_16f3e1dfab51fa    106\n",
      "P_ed155db12f35d7    105\n",
      "P_bee1aae475d656    103\n",
      "P_d2c3738f7e1882     99\n",
      "P_f2f1b7b21e5b87     92\n",
      "P_e953e34e177117     91\n",
      "P_745299120115a1     90\n",
      "P_2577c676e4ccf8     87\n",
      "P_7c5f67c96b0d53     80\n",
      "P_aab187db71cff5     78\n",
      "P_247d2b3ab0c8a1     76\n",
      "P_478cef4f217a6b     75\n",
      "P_ae96252a6a9380     75\n",
      "P_162d8569d0fe9b     74\n",
      "P_12d9ff56ec1610     73\n",
      "P_92a646e12139bb     72\n",
      "P_f2df149bcb3843     71\n",
      "P_9e9a7f44fabe9d     66\n",
      "Name: point_of_interest, dtype: int64\u001b[0m\n"
     ]
    },
    {
     "data": {
      "image/png": "[encoded data removed]",
      "text/plain": [
       "<Figure size 640x480 with 1 Axes>"
      ]
     },
     "metadata": {},
     "output_type": "display_data"
    }
   ],
   "source": [
    "feature_overview(\"point_of_interest\")"
   ]
  },
  {
   "cell_type": "code",
   "execution_count": null,
   "id": "0158c2f1-abcf-45bb-bfe6-ba3496690061",
   "metadata": {},
   "outputs": [],
   "source": []
  }
 ],
 "metadata": {
  "kernelspec": {
   "display_name": "Python 3 (ipykernel)",
   "language": "python",
   "name": "python3"
  },
  "language_info": {
   "codemirror_mode": {
    "name": "ipython",
    "version": 3
   },
   "file_extension": ".py",
   "mimetype": "text/x-python",
   "name": "python",
   "nbconvert_exporter": "python",
   "pygments_lexer": "ipython3",
   "version": "3.9.18"
  }
 },
 "nbformat": 4,
 "nbformat_minor": 5
}
